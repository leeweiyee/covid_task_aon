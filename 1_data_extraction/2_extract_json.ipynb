{
 "cells": [
  {
   "cell_type": "markdown",
   "id": "plain-contest",
   "metadata": {},
   "source": [
    "## Obtain updated JHU covid data from github repo in json format (ran Oct 15 2020)"
   ]
  },
  {
   "cell_type": "code",
   "execution_count": 1,
   "id": "broad-constraint",
   "metadata": {},
   "outputs": [],
   "source": [
    "import requests\n",
    "import csv\n",
    "url = \"https://pomber.github.io/covid19/timeseries.json\"\n",
    "covid = requests.get(url).json()"
   ]
  },
  {
   "cell_type": "code",
   "execution_count": 2,
   "id": "authorized-thing",
   "metadata": {},
   "outputs": [],
   "source": [
    "# Extract all data\n",
    "\n",
    "exporter = csv.writer(open(\"covid_data_from_json.csv\", \"w\"), lineterminator =\"\\n\")\n",
    "exporter.writerow([\"Country\", \"Date\", \"Confirmed\", \"Deaths\", \"Recovered\"])\n",
    "for country in covid:\n",
    "    for item in covid[country]:\n",
    "        exporter.writerow([\n",
    "            country,\n",
    "            item[\"date\"],\n",
    "            item[\"confirmed\"],\n",
    "            item[\"deaths\"],\n",
    "            item[\"recovered\"]\n",
    "        ])"
   ]
  },
  {
   "cell_type": "code",
   "execution_count": 4,
   "id": "ordinary-kelly",
   "metadata": {},
   "outputs": [],
   "source": [
    "# Convert cumulative data to non-cumulative data\n",
    "\n",
    "exporter = csv.writer(open(\"covid_new_cases_from_json.csv\", \"w\"), lineterminator ='\\n')\n",
    "exporter.writerow(['Country','Date','New_Confirmed','New_Deaths','New_Recovered'])\n",
    "for country in covid:\n",
    "    previous_day_confirmed = 0\n",
    "    previous_day_deaths = 0\n",
    "    previous_day_recovered = 0\n",
    "    for entry in covid[country]:\n",
    "        new_confirmed = entry[\"confirmed\"] - previous_day_confirmed\n",
    "        previous_day_confirmed = entry[\"confirmed\"]\n",
    "        \n",
    "        new_death = entry[\"deaths\"] - previous_day_deaths\n",
    "        previous_day_deaths = entry[\"deaths\"]\n",
    "        \n",
    "        new_recovered = entry[\"recovered\"] - previous_day_recovered\n",
    "        previous_day_recovered = entry[\"recovered\"]\n",
    "        \n",
    "        exporter.writerow([\n",
    "            country,\n",
    "            entry['date'],\n",
    "            new_confirmed,\n",
    "            new_death,\n",
    "            new_recovered\n",
    "        ])"
   ]
  }
 ],
 "metadata": {
  "kernelspec": {
   "display_name": "Python 3",
   "language": "python",
   "name": "python3"
  },
  "language_info": {
   "codemirror_mode": {
    "name": "ipython",
    "version": 3
   },
   "file_extension": ".py",
   "mimetype": "text/x-python",
   "name": "python",
   "nbconvert_exporter": "python",
   "pygments_lexer": "ipython3",
   "version": "3.8.5"
  }
 },
 "nbformat": 4,
 "nbformat_minor": 5
}
