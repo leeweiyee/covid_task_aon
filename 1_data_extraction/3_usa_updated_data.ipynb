{
 "cells": [
  {
   "cell_type": "code",
   "execution_count": 1,
   "id": "unsigned-provincial",
   "metadata": {},
   "outputs": [],
   "source": [
    "import pandas as pd\n",
    "import numpy as np"
   ]
  },
  {
   "cell_type": "markdown",
   "id": "nearby-resort",
   "metadata": {},
   "source": [
    "## Retrieve updated USA data (includes state names)"
   ]
  },
  {
   "cell_type": "code",
   "execution_count": 2,
   "id": "talented-leone",
   "metadata": {},
   "outputs": [],
   "source": [
    "df = pd.read_csv(\"https://raw.githubusercontent.com/CSSEGISandData/COVID-19/master/csse_covid_19_data/csse_covid_19_time_series/time_series_covid19_confirmed_US.csv\")"
   ]
  },
  {
   "cell_type": "code",
   "execution_count": 3,
   "id": "plain-facing",
   "metadata": {},
   "outputs": [],
   "source": [
    "dates = df.columns[11:]"
   ]
  },
  {
   "cell_type": "code",
   "execution_count": 4,
   "id": "related-broadway",
   "metadata": {},
   "outputs": [],
   "source": [
    "df = df.iloc[:,6:]\n",
    "df = df.drop(['Lat', 'Long_'], axis = 1)"
   ]
  },
  {
   "cell_type": "code",
   "execution_count": 5,
   "id": "premier-window",
   "metadata": {},
   "outputs": [],
   "source": [
    "df2 = pd.melt(df, id_vars = ['Province_State', 'Country_Region'], \n",
    "              value_vars = df.columns[11:], \n",
    "              var_name = 'Date',\n",
    "              value_name = 'Cumulated_Cases')"
   ]
  },
  {
   "cell_type": "code",
   "execution_count": 6,
   "id": "fuzzy-cocktail",
   "metadata": {},
   "outputs": [],
   "source": [
    "df2['Date'] = pd.to_datetime(df2['Date'])"
   ]
  },
  {
   "cell_type": "code",
   "execution_count": 7,
   "id": "controlling-worse",
   "metadata": {},
   "outputs": [],
   "source": [
    "df2 = df2.groupby(['Country_Region', 'Province_State', 'Date']).Cumulated_Cases.sum()\n",
    "df2 = df2.reset_index()"
   ]
  },
  {
   "cell_type": "code",
   "execution_count": 8,
   "id": "scenic-cleaner",
   "metadata": {},
   "outputs": [],
   "source": [
    "df2['lag'] = df2['Cumulated_Cases'].shift(1).fillna(0)"
   ]
  },
  {
   "cell_type": "code",
   "execution_count": 9,
   "id": "expanded-burton",
   "metadata": {},
   "outputs": [],
   "source": [
    "df2['New_Cases'] = df2['Cumulated_Cases'] - df2['lag']"
   ]
  },
  {
   "cell_type": "code",
   "execution_count": 10,
   "id": "understood-vegetation",
   "metadata": {},
   "outputs": [],
   "source": [
    "df2 = df2[['Province_State', 'Date', 'Cumulated_Cases', 'New_Cases']]"
   ]
  },
  {
   "cell_type": "code",
   "execution_count": 12,
   "id": "hollywood-environment",
   "metadata": {},
   "outputs": [],
   "source": [
    "index = df2[df2['Date'] == '2020-01-30'].index\n",
    "for x in index:\n",
    "    df2.loc[x, 'New_Cases'] = 0"
   ]
  },
  {
   "cell_type": "code",
   "execution_count": 14,
   "id": "stretch-software",
   "metadata": {},
   "outputs": [],
   "source": [
    "df2 = df2[df2['Province_State'] != 'Diamond Princess']\n",
    "df2 = df2[df2['Province_State'] != 'Grand Princess']"
   ]
  },
  {
   "cell_type": "code",
   "execution_count": 15,
   "id": "featured-guyana",
   "metadata": {},
   "outputs": [],
   "source": [
    "df2.iloc[:,-2:] = df2.iloc[:,-2:].astype(int)"
   ]
  },
  {
   "cell_type": "code",
   "execution_count": 16,
   "id": "conceptual-bradley",
   "metadata": {},
   "outputs": [],
   "source": [
    "df2.to_csv(\"us_data.csv\")"
   ]
  },
  {
   "cell_type": "code",
   "execution_count": 17,
   "id": "successful-singapore",
   "metadata": {
    "scrolled": true
   },
   "outputs": [
    {
     "data": {
      "text/html": [
       "<div>\n",
       "<style scoped>\n",
       "    .dataframe tbody tr th:only-of-type {\n",
       "        vertical-align: middle;\n",
       "    }\n",
       "\n",
       "    .dataframe tbody tr th {\n",
       "        vertical-align: top;\n",
       "    }\n",
       "\n",
       "    .dataframe thead th {\n",
       "        text-align: right;\n",
       "    }\n",
       "</style>\n",
       "<table border=\"1\" class=\"dataframe\">\n",
       "  <thead>\n",
       "    <tr style=\"text-align: right;\">\n",
       "      <th></th>\n",
       "      <th>Province_State</th>\n",
       "      <th>Date</th>\n",
       "      <th>Cumulated_Cases</th>\n",
       "      <th>New_Cases</th>\n",
       "    </tr>\n",
       "  </thead>\n",
       "  <tbody>\n",
       "    <tr>\n",
       "      <th>0</th>\n",
       "      <td>Alabama</td>\n",
       "      <td>2020-01-30</td>\n",
       "      <td>0</td>\n",
       "      <td>0</td>\n",
       "    </tr>\n",
       "    <tr>\n",
       "      <th>1</th>\n",
       "      <td>Alabama</td>\n",
       "      <td>2020-01-31</td>\n",
       "      <td>0</td>\n",
       "      <td>0</td>\n",
       "    </tr>\n",
       "    <tr>\n",
       "      <th>2</th>\n",
       "      <td>Alabama</td>\n",
       "      <td>2020-02-01</td>\n",
       "      <td>0</td>\n",
       "      <td>0</td>\n",
       "    </tr>\n",
       "    <tr>\n",
       "      <th>3</th>\n",
       "      <td>Alabama</td>\n",
       "      <td>2020-02-02</td>\n",
       "      <td>0</td>\n",
       "      <td>0</td>\n",
       "    </tr>\n",
       "    <tr>\n",
       "      <th>4</th>\n",
       "      <td>Alabama</td>\n",
       "      <td>2020-02-03</td>\n",
       "      <td>0</td>\n",
       "      <td>0</td>\n",
       "    </tr>\n",
       "    <tr>\n",
       "      <th>...</th>\n",
       "      <td>...</td>\n",
       "      <td>...</td>\n",
       "      <td>...</td>\n",
       "      <td>...</td>\n",
       "    </tr>\n",
       "    <tr>\n",
       "      <th>36303</th>\n",
       "      <td>Wyoming</td>\n",
       "      <td>2021-10-12</td>\n",
       "      <td>95620</td>\n",
       "      <td>483</td>\n",
       "    </tr>\n",
       "    <tr>\n",
       "      <th>36304</th>\n",
       "      <td>Wyoming</td>\n",
       "      <td>2021-10-13</td>\n",
       "      <td>96059</td>\n",
       "      <td>439</td>\n",
       "    </tr>\n",
       "    <tr>\n",
       "      <th>36305</th>\n",
       "      <td>Wyoming</td>\n",
       "      <td>2021-10-14</td>\n",
       "      <td>96664</td>\n",
       "      <td>605</td>\n",
       "    </tr>\n",
       "    <tr>\n",
       "      <th>36306</th>\n",
       "      <td>Wyoming</td>\n",
       "      <td>2021-10-15</td>\n",
       "      <td>97137</td>\n",
       "      <td>473</td>\n",
       "    </tr>\n",
       "    <tr>\n",
       "      <th>36307</th>\n",
       "      <td>Wyoming</td>\n",
       "      <td>2021-10-16</td>\n",
       "      <td>97137</td>\n",
       "      <td>0</td>\n",
       "    </tr>\n",
       "  </tbody>\n",
       "</table>\n",
       "<p>35056 rows × 4 columns</p>\n",
       "</div>"
      ],
      "text/plain": [
       "      Province_State       Date  Cumulated_Cases  New_Cases\n",
       "0            Alabama 2020-01-30                0          0\n",
       "1            Alabama 2020-01-31                0          0\n",
       "2            Alabama 2020-02-01                0          0\n",
       "3            Alabama 2020-02-02                0          0\n",
       "4            Alabama 2020-02-03                0          0\n",
       "...              ...        ...              ...        ...\n",
       "36303        Wyoming 2021-10-12            95620        483\n",
       "36304        Wyoming 2021-10-13            96059        439\n",
       "36305        Wyoming 2021-10-14            96664        605\n",
       "36306        Wyoming 2021-10-15            97137        473\n",
       "36307        Wyoming 2021-10-16            97137          0\n",
       "\n",
       "[35056 rows x 4 columns]"
      ]
     },
     "execution_count": 17,
     "metadata": {},
     "output_type": "execute_result"
    }
   ],
   "source": [
    "df2"
   ]
  }
 ],
 "metadata": {
  "kernelspec": {
   "display_name": "Python 3",
   "language": "python",
   "name": "python3"
  },
  "language_info": {
   "codemirror_mode": {
    "name": "ipython",
    "version": 3
   },
   "file_extension": ".py",
   "mimetype": "text/x-python",
   "name": "python",
   "nbconvert_exporter": "python",
   "pygments_lexer": "ipython3",
   "version": "3.8.5"
  }
 },
 "nbformat": 4,
 "nbformat_minor": 5
}
