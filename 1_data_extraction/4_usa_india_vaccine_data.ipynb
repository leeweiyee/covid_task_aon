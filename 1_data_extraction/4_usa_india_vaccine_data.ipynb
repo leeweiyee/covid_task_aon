{
 "cells": [
  {
   "cell_type": "markdown",
   "id": "supposed-purple",
   "metadata": {},
   "source": [
    "## Retrieve updated vaccination data (USA + India)"
   ]
  },
  {
   "cell_type": "code",
   "execution_count": null,
   "id": "subtle-nicholas",
   "metadata": {},
   "outputs": [],
   "source": [
    "df = pd.read_csv(\"https://raw.githubusercontent.com/govex/COVID-19/master/data_tables/vaccine_data/global_data/time_series_covid19_vaccine_global.csv\")"
   ]
  },
  {
   "cell_type": "code",
   "execution_count": null,
   "id": "moving-massage",
   "metadata": {},
   "outputs": [],
   "source": [
    "df.iloc[:,3:5] = df.iloc[:,3:5].fillna(0).astype(int)"
   ]
  },
  {
   "cell_type": "code",
   "execution_count": null,
   "id": "invisible-clear",
   "metadata": {},
   "outputs": [],
   "source": [
    "df['Date'] = pd.to_datetime(df['Date'])"
   ]
  },
  {
   "cell_type": "code",
   "execution_count": null,
   "id": "analyzed-integration",
   "metadata": {},
   "outputs": [],
   "source": [
    "df = df[['Country_Region', 'Date', 'Doses_admin', 'People_partially_vaccinated', 'People_fully_vaccinated']]"
   ]
  },
  {
   "cell_type": "code",
   "execution_count": null,
   "id": "scientific-midwest",
   "metadata": {},
   "outputs": [],
   "source": [
    "df = df[(df['Country_Region'] == 'US') | (df['Country_Region'] == 'India')]"
   ]
  },
  {
   "cell_type": "code",
   "execution_count": null,
   "id": "capital-approval",
   "metadata": {},
   "outputs": [],
   "source": [
    "df.sort_values(['Country_Region', 'Date'])"
   ]
  },
  {
   "cell_type": "code",
   "execution_count": null,
   "id": "enhanced-netherlands",
   "metadata": {},
   "outputs": [],
   "source": [
    "df.to_csv(\"vaccinations.csv\")"
   ]
  },
  {
   "cell_type": "code",
   "execution_count": null,
   "id": "lucky-crawford",
   "metadata": {},
   "outputs": [],
   "source": []
  }
 ],
 "metadata": {
  "kernelspec": {
   "display_name": "Python 3",
   "language": "python",
   "name": "python3"
  },
  "language_info": {
   "codemirror_mode": {
    "name": "ipython",
    "version": 3
   },
   "file_extension": ".py",
   "mimetype": "text/x-python",
   "name": "python",
   "nbconvert_exporter": "python",
   "pygments_lexer": "ipython3",
   "version": "3.8.5"
  }
 },
 "nbformat": 4,
 "nbformat_minor": 5
}
