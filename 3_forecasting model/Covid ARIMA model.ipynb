{
 "cells": [
  {
   "cell_type": "markdown",
   "id": "warming-surrey",
   "metadata": {},
   "source": [
    "# ARIMA model for predicting Covid trends\n",
    "ARIMA (autoregressive integrated moving average) is a statistical analysis model that uses time series data to either better understand the data set or to predict future trends. We will use this model to predict future values based on past values. We focus on predicting the number of potential Covid cases up to 2 weeks ahead. "
   ]
  },
  {
   "cell_type": "markdown",
   "id": "emerging-arrival",
   "metadata": {},
   "source": [
    "### Read csv data"
   ]
  },
  {
   "cell_type": "code",
   "execution_count": 2,
   "id": "controlled-state",
   "metadata": {},
   "outputs": [],
   "source": [
    "import pandas as pd\n",
    "import numpy as np\n",
    "import matplotlib.pyplot as plt"
   ]
  },
  {
   "cell_type": "code",
   "execution_count": 3,
   "id": "established-measurement",
   "metadata": {},
   "outputs": [
    {
     "data": {
      "text/html": [
       "<div>\n",
       "<style scoped>\n",
       "    .dataframe tbody tr th:only-of-type {\n",
       "        vertical-align: middle;\n",
       "    }\n",
       "\n",
       "    .dataframe tbody tr th {\n",
       "        vertical-align: top;\n",
       "    }\n",
       "\n",
       "    .dataframe thead th {\n",
       "        text-align: right;\n",
       "    }\n",
       "</style>\n",
       "<table border=\"1\" class=\"dataframe\">\n",
       "  <thead>\n",
       "    <tr style=\"text-align: right;\">\n",
       "      <th></th>\n",
       "      <th>Country</th>\n",
       "      <th>Date</th>\n",
       "      <th>Confirmed</th>\n",
       "      <th>Deaths</th>\n",
       "      <th>Recovered</th>\n",
       "    </tr>\n",
       "  </thead>\n",
       "  <tbody>\n",
       "    <tr>\n",
       "      <th>0</th>\n",
       "      <td>Afghanistan</td>\n",
       "      <td>2020-01-22</td>\n",
       "      <td>0</td>\n",
       "      <td>0</td>\n",
       "      <td>0.0</td>\n",
       "    </tr>\n",
       "    <tr>\n",
       "      <th>1</th>\n",
       "      <td>Afghanistan</td>\n",
       "      <td>2020-01-23</td>\n",
       "      <td>0</td>\n",
       "      <td>0</td>\n",
       "      <td>0.0</td>\n",
       "    </tr>\n",
       "    <tr>\n",
       "      <th>2</th>\n",
       "      <td>Afghanistan</td>\n",
       "      <td>2020-01-24</td>\n",
       "      <td>0</td>\n",
       "      <td>0</td>\n",
       "      <td>0.0</td>\n",
       "    </tr>\n",
       "    <tr>\n",
       "      <th>3</th>\n",
       "      <td>Afghanistan</td>\n",
       "      <td>2020-01-25</td>\n",
       "      <td>0</td>\n",
       "      <td>0</td>\n",
       "      <td>0.0</td>\n",
       "    </tr>\n",
       "    <tr>\n",
       "      <th>4</th>\n",
       "      <td>Afghanistan</td>\n",
       "      <td>2020-01-26</td>\n",
       "      <td>0</td>\n",
       "      <td>0</td>\n",
       "      <td>0.0</td>\n",
       "    </tr>\n",
       "    <tr>\n",
       "      <th>...</th>\n",
       "      <td>...</td>\n",
       "      <td>...</td>\n",
       "      <td>...</td>\n",
       "      <td>...</td>\n",
       "      <td>...</td>\n",
       "    </tr>\n",
       "    <tr>\n",
       "      <th>122409</th>\n",
       "      <td>Zimbabwe</td>\n",
       "      <td>2021-10-09</td>\n",
       "      <td>131762</td>\n",
       "      <td>4636</td>\n",
       "      <td>NaN</td>\n",
       "    </tr>\n",
       "    <tr>\n",
       "      <th>122410</th>\n",
       "      <td>Zimbabwe</td>\n",
       "      <td>2021-10-10</td>\n",
       "      <td>131796</td>\n",
       "      <td>4637</td>\n",
       "      <td>NaN</td>\n",
       "    </tr>\n",
       "    <tr>\n",
       "      <th>122411</th>\n",
       "      <td>Zimbabwe</td>\n",
       "      <td>2021-10-11</td>\n",
       "      <td>131875</td>\n",
       "      <td>4643</td>\n",
       "      <td>NaN</td>\n",
       "    </tr>\n",
       "    <tr>\n",
       "      <th>122412</th>\n",
       "      <td>Zimbabwe</td>\n",
       "      <td>2021-10-12</td>\n",
       "      <td>132016</td>\n",
       "      <td>4645</td>\n",
       "      <td>NaN</td>\n",
       "    </tr>\n",
       "    <tr>\n",
       "      <th>122413</th>\n",
       "      <td>Zimbabwe</td>\n",
       "      <td>2021-10-13</td>\n",
       "      <td>132108</td>\n",
       "      <td>4648</td>\n",
       "      <td>NaN</td>\n",
       "    </tr>\n",
       "  </tbody>\n",
       "</table>\n",
       "<p>122414 rows × 5 columns</p>\n",
       "</div>"
      ],
      "text/plain": [
       "            Country       Date  Confirmed  Deaths  Recovered\n",
       "0       Afghanistan 2020-01-22          0       0        0.0\n",
       "1       Afghanistan 2020-01-23          0       0        0.0\n",
       "2       Afghanistan 2020-01-24          0       0        0.0\n",
       "3       Afghanistan 2020-01-25          0       0        0.0\n",
       "4       Afghanistan 2020-01-26          0       0        0.0\n",
       "...             ...        ...        ...     ...        ...\n",
       "122409     Zimbabwe 2021-10-09     131762    4636        NaN\n",
       "122410     Zimbabwe 2021-10-10     131796    4637        NaN\n",
       "122411     Zimbabwe 2021-10-11     131875    4643        NaN\n",
       "122412     Zimbabwe 2021-10-12     132016    4645        NaN\n",
       "122413     Zimbabwe 2021-10-13     132108    4648        NaN\n",
       "\n",
       "[122414 rows x 5 columns]"
      ]
     },
     "execution_count": 3,
     "metadata": {},
     "output_type": "execute_result"
    }
   ],
   "source": [
    "df = pd.read_csv(\"../1_data_extraction/covid_final_cumulative.csv\", parse_dates=[1])\n",
    "df"
   ]
  },
  {
   "cell_type": "markdown",
   "id": "biblical-multiple",
   "metadata": {},
   "source": [
    "## Forecasting US cases\n",
    "### 1) Plots"
   ]
  },
  {
   "cell_type": "code",
   "execution_count": 4,
   "id": "sharing-complex",
   "metadata": {
    "scrolled": true
   },
   "outputs": [
    {
     "data": {
      "image/png": "[encoded data removed]",
      "text/plain": [
       "<Figure size 432x288 with 1 Axes>"
      ]
     },
     "metadata": {
      "needs_background": "light"
     },
     "output_type": "display_data"
    }
   ],
   "source": [
    "df = df[df['Country'] == \"United States\"]\n",
    "usa = df.groupby('Date')['Confirmed'].sum()\n",
    "\n",
    "# usa = usa[-300:] # get last 3 months\n",
    "usa.index = pd.DatetimeIndex(usa.index).to_period('D')\n",
    "\n",
    "usa.plot()\n",
    "plt.show()"
   ]
  },
  {
   "cell_type": "code",
   "execution_count": 7,
   "id": "japanese-closure",
   "metadata": {},
   "outputs": [
    {
     "data": {
      "image/png": "[encoded data removed]",
      "text/plain": [
       "<Figure size 432x288 with 1 Axes>"
      ]
     },
     "metadata": {
      "needs_background": "light"
     },
     "output_type": "display_data"
    }
   ],
   "source": [
    "# Split train and test (test is the last 14 days)\n",
    "usa_train = usa.loc[:'2021-09-30']\n",
    "usa_test = usa.loc['2021-09-30':]\n",
    "\n",
    "fig, ax = plt.subplots()\n",
    "\n",
    "usa_train.plot(ax=ax)\n",
    "usa_test.plot(ax=ax)\n",
    "plt.show()"
   ]
  },
  {
   "cell_type": "markdown",
   "id": "detected-gathering",
   "metadata": {},
   "source": [
    "### 2) Test if the data is stationary"
   ]
  },
  {
   "cell_type": "code",
   "execution_count": 8,
   "id": "covered-brook",
   "metadata": {},
   "outputs": [],
   "source": [
    "from statsmodels.tsa.stattools import adfuller"
   ]
  },
  {
   "cell_type": "code",
   "execution_count": 9,
   "id": "prime-foundation",
   "metadata": {},
   "outputs": [
    {
     "name": "stdout",
     "output_type": "stream",
     "text": [
      "-0.37884807653511443\n",
      "0.9135709405720833\n",
      "{'1%': -3.4410103235939746, '5%': -2.866243374831338, '10%': -2.5692748053002195}\n"
     ]
    }
   ],
   "source": [
    "# Augmented Dickey–Fuller Test (ADF)\n",
    "result = adfuller(usa)\n",
    "\n",
    "# Print test statistic\n",
    "print(result[0])\n",
    "\n",
    "# Print p-value\n",
    "print(result[1])\n",
    "\n",
    "# Print critical values\n",
    "print(result[4]) "
   ]
  },
  {
   "cell_type": "markdown",
   "id": "dried-timber",
   "metadata": {},
   "source": [
    "The p-value is >0.05, cannot reject the null hypothesis that the data is non-stationary. Differencing or transformation is needed to make data stationary. "
   ]
  },
  {
   "cell_type": "code",
   "execution_count": 10,
   "id": "ordinary-clearance",
   "metadata": {},
   "outputs": [
    {
     "name": "stdout",
     "output_type": "stream",
     "text": [
      "ADF Statistic: -2.1098456380028403\n",
      "p-value: 0.24057409534782664\n"
     ]
    },
    {
     "data": {
      "image/png": "[encoded data removed]",
      "text/plain": [
       "<Figure size 432x288 with 1 Axes>"
      ]
     },
     "metadata": {
      "needs_background": "light"
     },
     "output_type": "display_data"
    }
   ],
   "source": [
    "# Calculate the first difference of the time series\n",
    "usa_stationary = usa.diff().dropna()\n",
    "\n",
    "# Run ADF test on the differenced time series\n",
    "result = adfuller(usa_stationary)\n",
    "\n",
    "# Print the test statistic and the p-value\n",
    "print('ADF Statistic:', result[0])\n",
    "print('p-value:', result[1])\n",
    "\n",
    "# Plot the differenced time series\n",
    "fig, ax = plt.subplots()\n",
    "usa_stationary.plot(ax=ax)\n",
    "plt.show()"
   ]
  },
  {
   "cell_type": "markdown",
   "id": "focused-category",
   "metadata": {},
   "source": [
    "The p-value is still >0.05. Taking the second difference:"
   ]
  },
  {
   "cell_type": "code",
   "execution_count": 11,
   "id": "fallen-missile",
   "metadata": {},
   "outputs": [
    {
     "name": "stdout",
     "output_type": "stream",
     "text": [
      "ADF Statistic: -4.238709716927843\n",
      "p-value: 0.0005662389298468463\n"
     ]
    },
    {
     "data": {
      "image/png": "[encoded data removed]",
      "text/plain": [
       "<Figure size 432x288 with 1 Axes>"
      ]
     },
     "metadata": {
      "needs_background": "light"
     },
     "output_type": "display_data"
    }
   ],
   "source": [
    "# Calculate the second difference of the time series\n",
    "usa_stationary = usa.diff().diff().dropna()\n",
    "\n",
    "# Run ADF test on the differenced time series\n",
    "result = adfuller(usa_stationary)\n",
    "\n",
    "# Print the test statistic and the p-value\n",
    "print('ADF Statistic:', result[0])\n",
    "print('p-value:', result[1])\n",
    "\n",
    "# Plot the differenced time series\n",
    "fig, ax = plt.subplots()\n",
    "usa_stationary.plot(ax=ax)\n",
    "plt.show()"
   ]
  },
  {
   "cell_type": "code",
   "execution_count": 12,
   "id": "external-aluminum",
   "metadata": {},
   "outputs": [],
   "source": [
    "from statsmodels.graphics.tsaplots import plot_acf, plot_pacf"
   ]
  },
  {
   "cell_type": "code",
   "execution_count": 13,
   "id": "buried-hampton",
   "metadata": {},
   "outputs": [
    {
     "data": {
      "image/png": "[encoded data removed]",
      "text/plain": [
       "<Figure size 864x576 with 2 Axes>"
      ]
     },
     "metadata": {
      "needs_background": "light"
     },
     "output_type": "display_data"
    }
   ],
   "source": [
    "fig, (ax1, ax2) = plt.subplots(2,1, figsize=(12,8))\n",
    " \n",
    "# Plot the ACF of usa\n",
    "plot_acf(usa_stationary, lags=20, zero=False, ax=ax1)\n",
    "\n",
    "# Plot the PACF of usa\n",
    "plot_pacf(usa_stationary, lags=20, zero=False, ax=ax2)\n",
    "\n",
    "plt.show()"
   ]
  },
  {
   "cell_type": "markdown",
   "id": "dominant-finger",
   "metadata": {},
   "source": [
    "### 3) Search over model order using AIC and BIC"
   ]
  },
  {
   "cell_type": "code",
   "execution_count": 14,
   "id": "gross-digit",
   "metadata": {},
   "outputs": [],
   "source": [
    "from statsmodels.tsa.arima.model import ARIMA\n",
    "from statsmodels.tsa.statespace.sarimax import SARIMAX"
   ]
  },
  {
   "cell_type": "code",
   "execution_count": 15,
   "id": "banned-title",
   "metadata": {},
   "outputs": [
    {
     "name": "stderr",
     "output_type": "stream",
     "text": [
      "/Users/Mac/opt/anaconda3/envs/torch/lib/python3.8/site-packages/statsmodels/base/model.py:566: ConvergenceWarning: Maximum Likelihood optimization failed to converge. Check mle_retvals\n",
      "  warnings.warn(\"Maximum Likelihood optimization failed to \"\n",
      "/Users/Mac/opt/anaconda3/envs/torch/lib/python3.8/site-packages/statsmodels/tsa/statespace/sarimax.py:966: UserWarning: Non-stationary starting autoregressive parameters found. Using zeros as starting parameters.\n",
      "  warn('Non-stationary starting autoregressive parameters'\n",
      "/Users/Mac/opt/anaconda3/envs/torch/lib/python3.8/site-packages/statsmodels/tsa/statespace/sarimax.py:978: UserWarning: Non-invertible starting MA parameters found. Using zeros as starting parameters.\n",
      "  warn('Non-invertible starting MA parameters found.'\n",
      "/Users/Mac/opt/anaconda3/envs/torch/lib/python3.8/site-packages/statsmodels/base/model.py:566: ConvergenceWarning: Maximum Likelihood optimization failed to converge. Check mle_retvals\n",
      "  warnings.warn(\"Maximum Likelihood optimization failed to \"\n"
     ]
    },
    {
     "name": "stdout",
     "output_type": "stream",
     "text": [
      "    p  q           AIC           BIC\n",
      "18  3  3  14603.089584  14638.642634\n",
      "23  4  3  14603.305076  14643.302258\n",
      "24  4  4  14604.010637  14648.451950\n",
      "19  3  4  14606.268427  14646.265608\n",
      "14  2  4  14608.971409  14644.524459\n",
      "13  2  3  14611.853543  14642.962461\n",
      "9   1  4  14720.144105  14751.253024\n",
      "8   1  3  14725.466425  14752.131213\n",
      "4   0  4  14727.449208  14754.113995\n",
      "17  3  2  14734.348023  14765.456942\n",
      "3   0  3  14735.956010  14758.176666\n",
      "11  2  1  14737.867192  14760.087848\n",
      "21  4  1  14738.749545  14769.858464\n",
      "16  3  1  14739.857316  14766.522104\n",
      "12  2  2  14747.142566  14773.807353\n",
      "7   1  2  14753.143166  14775.363822\n",
      "2   0  2  14776.018380  14793.794905\n",
      "1   0  1  14776.995714  14790.328107\n",
      "6   1  1  14777.458718  14795.235243\n",
      "15  3  0  14791.740839  14813.961495\n",
      "20  4  0  14792.825317  14819.490104\n",
      "10  2  0  14826.121757  14843.898282\n",
      "22  4  2  14882.802775  14918.355825\n",
      "5   1  0  14975.012505  14988.344899\n",
      "0   0  0  15067.543400  15076.431662\n",
      "    p  q           AIC           BIC\n",
      "18  3  3  14603.089584  14638.642634\n",
      "13  2  3  14611.853543  14642.962461\n",
      "23  4  3  14603.305076  14643.302258\n",
      "14  2  4  14608.971409  14644.524459\n",
      "19  3  4  14606.268427  14646.265608\n",
      "24  4  4  14604.010637  14648.451950\n",
      "9   1  4  14720.144105  14751.253024\n",
      "8   1  3  14725.466425  14752.131213\n",
      "4   0  4  14727.449208  14754.113995\n",
      "3   0  3  14735.956010  14758.176666\n",
      "11  2  1  14737.867192  14760.087848\n",
      "17  3  2  14734.348023  14765.456942\n",
      "16  3  1  14739.857316  14766.522104\n",
      "21  4  1  14738.749545  14769.858464\n",
      "12  2  2  14747.142566  14773.807353\n",
      "7   1  2  14753.143166  14775.363822\n",
      "1   0  1  14776.995714  14790.328107\n",
      "2   0  2  14776.018380  14793.794905\n",
      "6   1  1  14777.458718  14795.235243\n",
      "15  3  0  14791.740839  14813.961495\n",
      "20  4  0  14792.825317  14819.490104\n",
      "10  2  0  14826.121757  14843.898282\n",
      "22  4  2  14882.802775  14918.355825\n",
      "5   1  0  14975.012505  14988.344899\n",
      "0   0  0  15067.543400  15076.431662\n"
     ]
    }
   ],
   "source": [
    "order_aic_bic=[]\n",
    "\n",
    "for p in range(5):\n",
    "    for q in range(5):\n",
    "        try:\n",
    "            # Create and fit ARMA(p,q) model\n",
    "            model = SARIMAX(usa, order=(p,2,q), trend='c')\n",
    "            results = model.fit()\n",
    "            order_aic_bic.append((p, q, results.aic, results.bic))\n",
    "        except:\n",
    "            print(p, q, None, None)\n",
    "\n",
    "order_df = pd.DataFrame(order_aic_bic, columns=['p', 'q', 'AIC', 'BIC'])\n",
    "\n",
    "# Print order_df in order of increasing AIC\n",
    "print(order_df.sort_values('AIC'))\n",
    "\n",
    "# Print order_df in order of increasing BIC\n",
    "print(order_df.sort_values('BIC'))"
   ]
  },
  {
   "cell_type": "markdown",
   "id": "sound-traveler",
   "metadata": {},
   "source": [
    "### Model diagnostics"
   ]
  },
  {
   "cell_type": "code",
   "execution_count": null,
   "id": "published-convention",
   "metadata": {},
   "outputs": [],
   "source": [
    "# Fit model\n",
    "model = SARIMAX(usa, order=(1,2,0))\n",
    "results = model.fit()\n",
    "\n",
    "# Calculate the mean absolute error from residuals\n",
    "mae = np.mean(np.abs(results.resid))\n",
    "\n",
    "# Print mean absolute error\n",
    "print(mae)"
   ]
  },
  {
   "cell_type": "code",
   "execution_count": null,
   "id": "greatest-coast",
   "metadata": {},
   "outputs": [],
   "source": [
    "results.summary()"
   ]
  },
  {
   "cell_type": "code",
   "execution_count": null,
   "id": "special-rabbit",
   "metadata": {},
   "outputs": [],
   "source": [
    "# Create the 4 diagostics plots\n",
    "results.plot_diagnostics(figsize=(12,8))\n",
    "plt.show()"
   ]
  },
  {
   "cell_type": "code",
   "execution_count": null,
   "id": "cordless-necessity",
   "metadata": {},
   "outputs": [],
   "source": [
    "# Generate predictions\n",
    "one_step_forecast = results.get_prediction(start=-14)\n",
    "\n",
    "# Extract prediction mean\n",
    "mean_forecast = one_step_forecast.predicted_mean\n",
    "\n",
    "# Get confidence intervals of predictions\n",
    "confidence_intervals = one_step_forecast.conf_int()\n",
    "\n",
    "# Select lower and upper confidence limits\n",
    "lower_limits = confidence_intervals.loc[:,'lower Confirmed']\n",
    "upper_limits = confidence_intervals.loc[:,'upper Confirmed']"
   ]
  },
  {
   "cell_type": "code",
   "execution_count": null,
   "id": "lonely-retail",
   "metadata": {},
   "outputs": [],
   "source": [
    "plt.figure(figsize=(12, 8))\n",
    "\n",
    "plt.plot(usa.index.to_timestamp(), usa, label='observed')\n",
    "\n",
    "# plot your mean predictions\n",
    "plt.plot(mean_forecast.index, mean_forecast, color='r', label='forecast')\n",
    "\n",
    "# shade the area between your confidence limits\n",
    "plt.fill_between(lower_limits.index, lower_limits, upper_limits, color='pink')\n",
    "\n",
    "# set labels, legends and show plot\n",
    "plt.xlabel('Date')\n",
    "plt.ylabel('USA Covid Cases')\n",
    "plt.legend()\n",
    "plt.show()"
   ]
  },
  {
   "cell_type": "code",
   "execution_count": null,
   "id": "pressing-glance",
   "metadata": {},
   "outputs": [],
   "source": []
  },
  {
   "cell_type": "code",
   "execution_count": null,
   "id": "novel-precipitation",
   "metadata": {},
   "outputs": [],
   "source": []
  },
  {
   "cell_type": "code",
   "execution_count": null,
   "id": "affecting-purpose",
   "metadata": {},
   "outputs": [],
   "source": []
  }
 ],
 "metadata": {
  "kernelspec": {
   "display_name": "Python 3",
   "language": "python",
   "name": "python3"
  },
  "language_info": {
   "codemirror_mode": {
    "name": "ipython",
    "version": 3
   },
   "file_extension": ".py",
   "mimetype": "text/x-python",
   "name": "python",
   "nbconvert_exporter": "python",
   "pygments_lexer": "ipython3",
   "version": "3.8.5"
  }
 },
 "nbformat": 4,
 "nbformat_minor": 5
}
